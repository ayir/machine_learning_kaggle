{
 "cells": [
  {
   "cell_type": "code",
   "execution_count": 1,
   "metadata": {},
   "outputs": [
    {
     "name": "stderr",
     "output_type": "stream",
     "text": [
      "/Users/riyasharma/anaconda3/lib/python3.7/site-packages/ipykernel_launcher.py:9: FutureWarning: Method .as_matrix will be removed in a future version. Use .values instead.\n",
      "  if __name__ == '__main__':\n",
      "/Users/riyasharma/anaconda3/lib/python3.7/site-packages/sklearn/utils/deprecation.py:58: DeprecationWarning: Class Imputer is deprecated; Imputer was deprecated in version 0.20 and will be removed in 0.22. Import impute.SimpleImputer from sklearn instead.\n",
      "  warnings.warn(msg, category=DeprecationWarning)\n"
     ]
    }
   ],
   "source": [
    "import pandas as pd\n",
    "from sklearn.model_selection import train_test_split\n",
    "from sklearn.preprocessing import Imputer\n",
    "\n",
    "data = pd.read_csv('./train.csv')\n",
    "data.dropna(axis=0, subset=['SalePrice'], inplace=True)\n",
    "y = data.SalePrice\n",
    "X = data.drop(['SalePrice'], axis=1).select_dtypes(exclude=['object'])\n",
    "train_X, test_X, train_y, test_y = train_test_split(X.as_matrix(), y.as_matrix(), test_size=0.25)\n",
    "\n",
    "my_imputer = Imputer()\n",
    "train_X = my_imputer.fit_transform(train_X)\n",
    "test_X = my_imputer.transform(test_X)"
   ]
  },
  {
   "cell_type": "code",
   "execution_count": 2,
   "metadata": {},
   "outputs": [
    {
     "data": {
      "text/plain": [
       "XGBRegressor(base_score=0.5, booster='gbtree', colsample_bylevel=1,\n",
       "       colsample_bytree=1, gamma=0, learning_rate=0.1, max_delta_step=0,\n",
       "       max_depth=3, min_child_weight=1, missing=None, n_estimators=100,\n",
       "       n_jobs=1, nthread=None, objective='reg:linear', random_state=0,\n",
       "       reg_alpha=0, reg_lambda=1, scale_pos_weight=1, seed=None,\n",
       "       silent=True, subsample=1)"
      ]
     },
     "execution_count": 2,
     "metadata": {},
     "output_type": "execute_result"
    }
   ],
   "source": [
    "from xgboost import XGBRegressor\n",
    "\n",
    "my_model = XGBRegressor()\n",
    "# Add silent=True to avoid printing out updates with each cycle\n",
    "my_model.fit(train_X, train_y, verbose=False)"
   ]
  },
  {
   "cell_type": "code",
   "execution_count": 3,
   "metadata": {},
   "outputs": [
    {
     "name": "stdout",
     "output_type": "stream",
     "text": [
      "Mean Absolute Error : 17458.724208047945\n"
     ]
    }
   ],
   "source": [
    "predictions = my_model.predict(test_X)\n",
    "\n",
    "from sklearn.metrics import mean_absolute_error\n",
    "print(\"Mean Absolute Error : \" + str(mean_absolute_error(predictions, test_y)))\n"
   ]
  },
  {
   "cell_type": "code",
   "execution_count": 7,
   "metadata": {},
   "outputs": [
    {
     "name": "stdout",
     "output_type": "stream",
     "text": [
      "[0]\tvalidation_0-rmse:189399\n",
      "Will train until validation_0-rmse hasn't improved in 5 rounds.\n",
      "[1]\tvalidation_0-rmse:180720\n",
      "[2]\tvalidation_0-rmse:172539\n",
      "[3]\tvalidation_0-rmse:164813\n",
      "[4]\tvalidation_0-rmse:157162\n",
      "[5]\tvalidation_0-rmse:150132\n",
      "[6]\tvalidation_0-rmse:143294\n",
      "[7]\tvalidation_0-rmse:136883\n",
      "[8]\tvalidation_0-rmse:131029\n",
      "[9]\tvalidation_0-rmse:124981\n",
      "[10]\tvalidation_0-rmse:119472\n",
      "[11]\tvalidation_0-rmse:114049\n",
      "[12]\tvalidation_0-rmse:109161\n",
      "[13]\tvalidation_0-rmse:104586\n",
      "[14]\tvalidation_0-rmse:100207\n",
      "[15]\tvalidation_0-rmse:96130.2\n",
      "[16]\tvalidation_0-rmse:92172.6\n",
      "[17]\tvalidation_0-rmse:88423.6\n",
      "[18]\tvalidation_0-rmse:84788.2\n",
      "[19]\tvalidation_0-rmse:81334.2\n",
      "[20]\tvalidation_0-rmse:78029.6\n",
      "[21]\tvalidation_0-rmse:75062\n",
      "[22]\tvalidation_0-rmse:72200.7\n",
      "[23]\tvalidation_0-rmse:69551.2\n",
      "[24]\tvalidation_0-rmse:66957.8\n",
      "[25]\tvalidation_0-rmse:64489.9\n",
      "[26]\tvalidation_0-rmse:62188\n",
      "[27]\tvalidation_0-rmse:60038.7\n",
      "[28]\tvalidation_0-rmse:58077.6\n",
      "[29]\tvalidation_0-rmse:56148.5\n",
      "[30]\tvalidation_0-rmse:54412.3\n",
      "[31]\tvalidation_0-rmse:52755.3\n",
      "[32]\tvalidation_0-rmse:51244.4\n",
      "[33]\tvalidation_0-rmse:49755\n",
      "[34]\tvalidation_0-rmse:48407.7\n",
      "[35]\tvalidation_0-rmse:47091.3\n",
      "[36]\tvalidation_0-rmse:45924.8\n",
      "[37]\tvalidation_0-rmse:44792.8\n",
      "[38]\tvalidation_0-rmse:43735.5\n",
      "[39]\tvalidation_0-rmse:42747.7\n",
      "[40]\tvalidation_0-rmse:41798\n",
      "[41]\tvalidation_0-rmse:40955.2\n",
      "[42]\tvalidation_0-rmse:40124.7\n",
      "[43]\tvalidation_0-rmse:39400\n",
      "[44]\tvalidation_0-rmse:38692.5\n",
      "[45]\tvalidation_0-rmse:38018.6\n",
      "[46]\tvalidation_0-rmse:37381.5\n",
      "[47]\tvalidation_0-rmse:36808.7\n",
      "[48]\tvalidation_0-rmse:36279\n",
      "[49]\tvalidation_0-rmse:35769\n",
      "[50]\tvalidation_0-rmse:35319.5\n",
      "[51]\tvalidation_0-rmse:34883.5\n",
      "[52]\tvalidation_0-rmse:34475.7\n",
      "[53]\tvalidation_0-rmse:34100.7\n",
      "[54]\tvalidation_0-rmse:33751.3\n",
      "[55]\tvalidation_0-rmse:33467.7\n",
      "[56]\tvalidation_0-rmse:33162.9\n",
      "[57]\tvalidation_0-rmse:32813.7\n",
      "[58]\tvalidation_0-rmse:32582.9\n",
      "[59]\tvalidation_0-rmse:32381\n",
      "[60]\tvalidation_0-rmse:32180.5\n",
      "[61]\tvalidation_0-rmse:32012\n",
      "[62]\tvalidation_0-rmse:31815.6\n",
      "[63]\tvalidation_0-rmse:31643.7\n",
      "[64]\tvalidation_0-rmse:31515.2\n",
      "[65]\tvalidation_0-rmse:31345.9\n",
      "[66]\tvalidation_0-rmse:31196.2\n",
      "[67]\tvalidation_0-rmse:31037.2\n",
      "[68]\tvalidation_0-rmse:30901.8\n",
      "[69]\tvalidation_0-rmse:30810.8\n",
      "[70]\tvalidation_0-rmse:30687.6\n",
      "[71]\tvalidation_0-rmse:30582.4\n",
      "[72]\tvalidation_0-rmse:30490.2\n",
      "[73]\tvalidation_0-rmse:30372.5\n",
      "[74]\tvalidation_0-rmse:30272.6\n",
      "[75]\tvalidation_0-rmse:30155.4\n",
      "[76]\tvalidation_0-rmse:30048.8\n",
      "[77]\tvalidation_0-rmse:29970.5\n",
      "[78]\tvalidation_0-rmse:29907\n",
      "[79]\tvalidation_0-rmse:29831.9\n",
      "[80]\tvalidation_0-rmse:29773.7\n",
      "[81]\tvalidation_0-rmse:29703.2\n",
      "[82]\tvalidation_0-rmse:29685.9\n",
      "[83]\tvalidation_0-rmse:29667.9\n",
      "[84]\tvalidation_0-rmse:29665.5\n",
      "[85]\tvalidation_0-rmse:29560.2\n",
      "[86]\tvalidation_0-rmse:29490.1\n",
      "[87]\tvalidation_0-rmse:29473.7\n",
      "[88]\tvalidation_0-rmse:29416.9\n",
      "[89]\tvalidation_0-rmse:29354\n",
      "[90]\tvalidation_0-rmse:29323.3\n",
      "[91]\tvalidation_0-rmse:29317.8\n",
      "[92]\tvalidation_0-rmse:29271.6\n",
      "[93]\tvalidation_0-rmse:29242\n",
      "[94]\tvalidation_0-rmse:29209.3\n",
      "[95]\tvalidation_0-rmse:29217.4\n",
      "[96]\tvalidation_0-rmse:29184.1\n",
      "[97]\tvalidation_0-rmse:29171.5\n",
      "[98]\tvalidation_0-rmse:29138.9\n",
      "[99]\tvalidation_0-rmse:29117.8\n",
      "[100]\tvalidation_0-rmse:29063.3\n",
      "[101]\tvalidation_0-rmse:28974.8\n",
      "[102]\tvalidation_0-rmse:28948.3\n",
      "[103]\tvalidation_0-rmse:28937.1\n",
      "[104]\tvalidation_0-rmse:28921\n",
      "[105]\tvalidation_0-rmse:28889.3\n",
      "[106]\tvalidation_0-rmse:28879.2\n",
      "[107]\tvalidation_0-rmse:28861.2\n",
      "[108]\tvalidation_0-rmse:28834.7\n",
      "[109]\tvalidation_0-rmse:28805.1\n",
      "[110]\tvalidation_0-rmse:28801.8\n",
      "[111]\tvalidation_0-rmse:28799.1\n",
      "[112]\tvalidation_0-rmse:28792.3\n",
      "[113]\tvalidation_0-rmse:28759.3\n",
      "[114]\tvalidation_0-rmse:28752.5\n",
      "[115]\tvalidation_0-rmse:28746.2\n",
      "[116]\tvalidation_0-rmse:28738.3\n",
      "[117]\tvalidation_0-rmse:28734.8\n",
      "[118]\tvalidation_0-rmse:28716.5\n",
      "[119]\tvalidation_0-rmse:28729.1\n",
      "[120]\tvalidation_0-rmse:28731.8\n",
      "[121]\tvalidation_0-rmse:28717.8\n",
      "[122]\tvalidation_0-rmse:28725.7\n",
      "[123]\tvalidation_0-rmse:28705.4\n",
      "[124]\tvalidation_0-rmse:28695.9\n",
      "[125]\tvalidation_0-rmse:28702.3\n",
      "[126]\tvalidation_0-rmse:28677.6\n",
      "[127]\tvalidation_0-rmse:28676.8\n",
      "[128]\tvalidation_0-rmse:28676.3\n",
      "[129]\tvalidation_0-rmse:28681.8\n",
      "[130]\tvalidation_0-rmse:28676.5\n",
      "[131]\tvalidation_0-rmse:28640.2\n",
      "[132]\tvalidation_0-rmse:28648\n",
      "[133]\tvalidation_0-rmse:28622.9\n",
      "[134]\tvalidation_0-rmse:28607.8\n",
      "[135]\tvalidation_0-rmse:28612.3\n",
      "[136]\tvalidation_0-rmse:28583.2\n",
      "[137]\tvalidation_0-rmse:28561.4\n",
      "[138]\tvalidation_0-rmse:28557\n",
      "[139]\tvalidation_0-rmse:28573.5\n",
      "[140]\tvalidation_0-rmse:28585.4\n",
      "[141]\tvalidation_0-rmse:28599.3\n",
      "[142]\tvalidation_0-rmse:28608\n",
      "[143]\tvalidation_0-rmse:28603.6\n",
      "Stopping. Best iteration:\n",
      "[138]\tvalidation_0-rmse:28557\n",
      "\n"
     ]
    },
    {
     "data": {
      "text/plain": [
       "XGBRegressor(base_score=0.5, booster='gbtree', colsample_bylevel=1,\n",
       "       colsample_bytree=1, gamma=0, learning_rate=0.05, max_delta_step=0,\n",
       "       max_depth=3, min_child_weight=1, missing=None, n_estimators=1000,\n",
       "       n_jobs=1, nthread=None, objective='reg:linear', random_state=0,\n",
       "       reg_alpha=0, reg_lambda=1, scale_pos_weight=1, seed=None,\n",
       "       silent=True, subsample=1)"
      ]
     },
     "execution_count": 7,
     "metadata": {},
     "output_type": "execute_result"
    }
   ],
   "source": [
    "my_model = XGBRegressor(n_estimators=1000,learning_rate=0.05)\n",
    "my_model.fit(train_X, train_y, early_stopping_rounds=5, \n",
    "             eval_set=[(test_X, test_y)], verbose=True)"
   ]
  },
  {
   "cell_type": "code",
   "execution_count": null,
   "metadata": {},
   "outputs": [],
   "source": [
    "#n_jobs\n",
    "#On larger datasets where runtime is a consideration, you can use parallelism\n",
    "#to build your models faster. It's common to set the parameter n_jobs equal to \n",
    "#the number of cores on your machine. On smaller datasets, this won't help."
   ]
  }
 ],
 "metadata": {
  "kernelspec": {
   "display_name": "Python 3",
   "language": "python",
   "name": "python3"
  },
  "language_info": {
   "codemirror_mode": {
    "name": "ipython",
    "version": 3
   },
   "file_extension": ".py",
   "mimetype": "text/x-python",
   "name": "python",
   "nbconvert_exporter": "python",
   "pygments_lexer": "ipython3",
   "version": "3.7.1"
  }
 },
 "nbformat": 4,
 "nbformat_minor": 2
}
